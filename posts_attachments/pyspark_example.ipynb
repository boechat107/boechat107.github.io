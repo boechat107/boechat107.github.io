{
 "cells": [
  {
   "cell_type": "markdown",
   "metadata": {},
   "source": [
    "# PySpark Example"
   ]
  },
  {
   "cell_type": "code",
   "execution_count": 1,
   "metadata": {
    "collapsed": false
   },
   "outputs": [],
   "source": [
    "import pandas as pd\n",
    "import datetime as dt\n",
    "import matplotlib.pyplot as plt\n",
    "from pyspark import SparkContext, SQLContext\n",
    "\n",
    "## Lauching Spark's JVM.\n",
    "sc = SparkContext(\"local[*]\")\n",
    "\n",
    "## Plot style configurations.\n",
    "%matplotlib inline\n",
    "plt.style.use('ggplot')\n",
    "\n",
    "## A resonable size of plots\n",
    "fsize = (12,8)"
   ]
  },
  {
   "cell_type": "code",
   "execution_count": 4,
   "metadata": {
    "collapsed": false
   },
   "outputs": [
    {
     "data": {
      "text/plain": [
       "[(datetime.datetime(2014, 1, 20, 0, 0), u'A2', 4.0),\n",
       " (datetime.datetime(2014, 1, 15, 0, 0), u'A1', 1.5),\n",
       " (datetime.datetime(2014, 1, 21, 0, 0), u'A2', 5.0),\n",
       " (datetime.datetime(2014, 1, 21, 0, 0), u'A1', 5.0),\n",
       " (datetime.datetime(2014, 1, 22, 0, 0), u'A1', 3.0),\n",
       " (datetime.datetime(2014, 2, 10, 0, 0), u'A1', 2.0),\n",
       " (datetime.datetime(2014, 1, 15, 0, 0), u'A2', 1.0),\n",
       " (datetime.datetime(2014, 4, 22, 0, 0), u'A2', 3.5),\n",
       " (datetime.datetime(2014, 3, 1, 0, 0), u'A1', 4.5),\n",
       " (datetime.datetime(2014, 2, 25, 0, 0), u'A1', 2.0)]"
      ]
     },
     "execution_count": 4,
     "metadata": {},
     "output_type": "execute_result"
    }
   ],
   "source": [
    "data = (sc.textFile('data/students_scores_samples.txt')\n",
    "        ## Breaking lines into fields.\n",
    "        .map(lambda line: line.split(','))\n",
    "        ## Creating objects of different types.\n",
    "        .map(lambda (date, student_id, score): (dt.datetime.strptime(date, '%Y-%m-%d'),\n",
    "                                                student_id,\n",
    "                                                float(score)))\n",
    "        )\n",
    "data.collect()"
   ]
  },
  {
   "cell_type": "code",
   "execution_count": 20,
   "metadata": {
    "collapsed": false
   },
   "outputs": [
    {
     "data": {
      "text/plain": [
       "<matplotlib.collections.PathCollection at 0x7f7094993790>"
      ]
     },
     "execution_count": 20,
     "metadata": {},
     "output_type": "execute_result"
    },
    {
     "data": {
      "image/png": "[encoded data removed]",
      "text/plain": [
       "<matplotlib.figure.Figure at 0x7f7094ae0c90>"
      ]
     },
     "metadata": {},
     "output_type": "display_data"
    }
   ],
   "source": [
    "## Only dates.\n",
    "x = data.map(lambda rec: rec[0]).collect()\n",
    "## Only scores.\n",
    "y = data.map(lambda rec: rec[2]).collect()\n",
    "## List of 0s and 1s. 0 if student_id is 'A1'; 1 otherwise.\n",
    "colors = data.map(lambda rec: 0 if rec[1] == 'A1' else 1).collect()\n",
    "\n",
    "plt.figure(figsize=fsize)\n",
    "plt.scatter(x=x, y=y, s=50, c=colors, cmap='brg')"
   ]
  },
  {
   "cell_type": "code",
   "execution_count": 26,
   "metadata": {
    "collapsed": false
   },
   "outputs": [
    {
     "name": "stdout",
     "output_type": "stream",
     "text": [
      "+--------------------+----------+-----+\n",
      "|                date|student_id|score|\n",
      "+--------------------+----------+-----+\n",
      "|2014-01-20 00:00:...|        A2|  4.0|\n",
      "|2014-01-15 00:00:...|        A1|  1.5|\n",
      "|2014-01-21 00:00:...|        A2|  5.0|\n",
      "|2014-01-21 00:00:...|        A1|  5.0|\n",
      "|2014-01-22 00:00:...|        A1|  3.0|\n",
      "|2014-02-10 00:00:...|        A1|  2.0|\n",
      "|2014-01-15 00:00:...|        A2|  1.0|\n",
      "|2014-04-22 00:00:...|        A2|  3.5|\n",
      "|2014-03-01 00:00:...|        A1|  4.5|\n",
      "|2014-02-25 00:00:...|        A1|  2.0|\n",
      "+--------------------+----------+-----+\n",
      "\n"
     ]
    }
   ],
   "source": [
    "sqlsc = SQLContext(sc)\n",
    "\n",
    "dataframe = sqlsc.createDataFrame(data, ['date', 'student_id', 'score'])\n",
    "dataframe.show()"
   ]
  },
  {
   "cell_type": "code",
   "execution_count": 27,
   "metadata": {
    "collapsed": false
   },
   "outputs": [
    {
     "name": "stdout",
     "output_type": "stream",
     "text": [
      "+-------+------------------+\n",
      "|summary|             score|\n",
      "+-------+------------------+\n",
      "|  count|                10|\n",
      "|   mean|              3.15|\n",
      "| stddev|1.4729034063523803|\n",
      "|    min|               1.0|\n",
      "|    max|               5.0|\n",
      "+-------+------------------+\n",
      "\n"
     ]
    }
   ],
   "source": [
    "dataframe.describe().show()"
   ]
  },
  {
   "cell_type": "code",
   "execution_count": 28,
   "metadata": {
    "collapsed": false
   },
   "outputs": [
    {
     "name": "stdout",
     "output_type": "stream",
     "text": [
      "+----------+---------+---------+\n",
      "|student_id|avg_score|num_exams|\n",
      "+----------+---------+---------+\n",
      "|        A1|      3.0|        6|\n",
      "|        A2|    3.375|        4|\n",
      "+----------+---------+---------+\n",
      "\n"
     ]
    }
   ],
   "source": [
    "import pyspark.sql.functions as sqlfn\n",
    "\n",
    "(dataframe.groupBy('student_id')\n",
    " .agg(sqlfn.avg('score').alias('avg_score'),\n",
    "      sqlfn.count('*').alias('num_exams'))\n",
    " .show()\n",
    ")"
   ]
  }
 ],
 "metadata": {
  "kernelspec": {
   "display_name": "Python 2",
   "language": "python",
   "name": "python2"
  },
  "language_info": {
   "codemirror_mode": {
    "name": "ipython",
    "version": 2
   },
   "file_extension": ".py",
   "mimetype": "text/x-python",
   "name": "python",
   "nbconvert_exporter": "python",
   "pygments_lexer": "ipython2",
   "version": "2.7.11"
  }
 },
 "nbformat": 4,
 "nbformat_minor": 0
}
